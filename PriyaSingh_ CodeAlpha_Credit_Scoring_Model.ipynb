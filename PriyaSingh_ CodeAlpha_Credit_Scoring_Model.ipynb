{
 "cells": [
  {
   "cell_type": "code",
   "execution_count": 1,
   "id": "4cb7b14c-dbd4-4353-b80a-c22cfb9fcee2",
   "metadata": {},
   "outputs": [],
   "source": [
    "import pandas as pd\n",
    "import numpy as np\n",
    "import matplotlib.pyplot as plt\n",
    "import seaborn as sns\n",
    "\n",
    "from sklearn.model_selection import train_test_split\n",
    "from sklearn.preprocessing import StandardScaler\n",
    "from sklearn.linear_model import LogisticRegression\n",
    "from sklearn.tree import DecisionTreeClassifier\n",
    "from sklearn.ensemble import RandomForestClassifier\n",
    "from sklearn.metrics import classification_report, confusion_matrix, roc_auc_score, roc_curve"
   ]
  },
  {
   "cell_type": "code",
   "execution_count": 2,
   "id": "d73cb47a-302c-4d6f-b55f-7a0304025377",
   "metadata": {},
   "outputs": [],
   "source": [
    "df = pd.read_csv(\"cs-training.csv\")\n",
    "df.drop(columns=[\"Unnamed: 0\"], inplace=True)  # drop index column"
   ]
  },
  {
   "cell_type": "code",
   "execution_count": 5,
   "id": "26e8a779-d4de-4620-ab42-154988971b75",
   "metadata": {},
   "outputs": [
    {
     "name": "stdout",
     "output_type": "stream",
     "text": [
      "Initial shape: (150000, 11)\n",
      "   SeriousDlqin2yrs  RevolvingUtilizationOfUnsecuredLines  age  \\\n",
      "0                 1                              0.766127   45   \n",
      "1                 0                              0.957151   40   \n",
      "2                 0                              0.658180   38   \n",
      "3                 0                              0.233810   30   \n",
      "4                 0                              0.907239   49   \n",
      "\n",
      "   NumberOfTime30-59DaysPastDueNotWorse  DebtRatio  MonthlyIncome  \\\n",
      "0                                     2   0.802982         9120.0   \n",
      "1                                     0   0.121876         2600.0   \n",
      "2                                     1   0.085113         3042.0   \n",
      "3                                     0   0.036050         3300.0   \n",
      "4                                     1   0.024926        63588.0   \n",
      "\n",
      "   NumberOfOpenCreditLinesAndLoans  NumberOfTimes90DaysLate  \\\n",
      "0                               13                        0   \n",
      "1                                4                        0   \n",
      "2                                2                        1   \n",
      "3                                5                        0   \n",
      "4                                7                        0   \n",
      "\n",
      "   NumberRealEstateLoansOrLines  NumberOfTime60-89DaysPastDueNotWorse  \\\n",
      "0                             6                                     0   \n",
      "1                             0                                     0   \n",
      "2                             0                                     0   \n",
      "3                             0                                     0   \n",
      "4                             1                                     0   \n",
      "\n",
      "   NumberOfDependents  \n",
      "0                 2.0  \n",
      "1                 1.0  \n",
      "2                 0.0  \n",
      "3                 0.0  \n",
      "4                 0.0  \n",
      "\n",
      "Missing values:\n",
      " SeriousDlqin2yrs                            0\n",
      "RevolvingUtilizationOfUnsecuredLines        0\n",
      "age                                         0\n",
      "NumberOfTime30-59DaysPastDueNotWorse        0\n",
      "DebtRatio                                   0\n",
      "MonthlyIncome                           29731\n",
      "NumberOfOpenCreditLinesAndLoans             0\n",
      "NumberOfTimes90DaysLate                     0\n",
      "NumberRealEstateLoansOrLines                0\n",
      "NumberOfTime60-89DaysPastDueNotWorse        0\n",
      "NumberOfDependents                       3924\n",
      "dtype: int64\n"
     ]
    }
   ],
   "source": [
    "print(\"Initial shape:\", df.shape)\n",
    "print(df.head())\n",
    "print(\"\\nMissing values:\\n\", df.isnull().sum())"
   ]
  },
  {
   "cell_type": "code",
   "execution_count": 7,
   "id": "550bf2d0-516c-4b36-8c8b-ce73dd857ba9",
   "metadata": {},
   "outputs": [
    {
     "name": "stderr",
     "output_type": "stream",
     "text": [
      "C:\\Users\\rahul\\AppData\\Local\\Temp\\ipykernel_17100\\2604866267.py:1: FutureWarning: A value is trying to be set on a copy of a DataFrame or Series through chained assignment using an inplace method.\n",
      "The behavior will change in pandas 3.0. This inplace method will never work because the intermediate object on which we are setting values always behaves as a copy.\n",
      "\n",
      "For example, when doing 'df[col].method(value, inplace=True)', try using 'df.method({col: value}, inplace=True)' or df[col] = df[col].method(value) instead, to perform the operation inplace on the original object.\n",
      "\n",
      "\n",
      "  df['MonthlyIncome'].fillna(df['MonthlyIncome'].median(), inplace=True)\n",
      "C:\\Users\\rahul\\AppData\\Local\\Temp\\ipykernel_17100\\2604866267.py:2: FutureWarning: A value is trying to be set on a copy of a DataFrame or Series through chained assignment using an inplace method.\n",
      "The behavior will change in pandas 3.0. This inplace method will never work because the intermediate object on which we are setting values always behaves as a copy.\n",
      "\n",
      "For example, when doing 'df[col].method(value, inplace=True)', try using 'df.method({col: value}, inplace=True)' or df[col] = df[col].method(value) instead, to perform the operation inplace on the original object.\n",
      "\n",
      "\n",
      "  df['NumberOfDependents'].fillna(df['NumberOfDependents'].median(), inplace=True)\n"
     ]
    }
   ],
   "source": [
    "df['MonthlyIncome'].fillna(df['MonthlyIncome'].median(), inplace=True)\n",
    "df['NumberOfDependents'].fillna(df['NumberOfDependents'].median(), inplace=True)\n"
   ]
  },
  {
   "cell_type": "code",
   "execution_count": 9,
   "id": "c006a6d1-6918-4b84-944a-a060b7f1184a",
   "metadata": {},
   "outputs": [],
   "source": [
    "df[\"IncomeDebtRatio\"] = df[\"MonthlyIncome\"] / (df[\"DebtRatio\"] + 1)"
   ]
  },
  {
   "cell_type": "code",
   "execution_count": 11,
   "id": "a8f798f2-0714-440f-9b19-93edf1c2bf28",
   "metadata": {},
   "outputs": [],
   "source": [
    "df = df[(df['age'] >= 18) & (df['age'] <= 100)]\n",
    "df[\"RevolvingUtilizationOfUnsecuredLines\"] = df[\"RevolvingUtilizationOfUnsecuredLines\"].clip(0, 1)"
   ]
  },
  {
   "cell_type": "code",
   "execution_count": 13,
   "id": "248a758c-4201-46dc-8143-7a252a259c44",
   "metadata": {},
   "outputs": [],
   "source": [
    "target = \"SeriousDlqin2yrs\"\n",
    "features = [\n",
    "    \"RevolvingUtilizationOfUnsecuredLines\",\n",
    "    \"age\",\n",
    "    \"NumberOfTime30-59DaysPastDueNotWorse\",\n",
    "    \"DebtRatio\",\n",
    "    \"MonthlyIncome\",\n",
    "    \"NumberOfOpenCreditLinesAndLoans\",\n",
    "    \"NumberOfTimes90DaysLate\",\n",
    "    \"NumberRealEstateLoansOrLines\",\n",
    "    \"NumberOfTime60-89DaysPastDueNotWorse\",\n",
    "    \"NumberOfDependents\",\n",
    "    \"IncomeDebtRatio\"\n",
    "]\n",
    "\n",
    "X = df[features]\n",
    "y = df[target]\n"
   ]
  },
  {
   "cell_type": "code",
   "execution_count": 17,
   "id": "fad2db69-aaf8-4390-990a-1684504445c8",
   "metadata": {},
   "outputs": [],
   "source": [
    "X_train, X_test, y_train, y_test = train_test_split( X, y, test_size=0.2, stratify=y, random_state=42)\n"
   ]
  },
  {
   "cell_type": "code",
   "execution_count": 19,
   "id": "438a7ebe-18c6-4239-b675-6e210f4ab8fe",
   "metadata": {},
   "outputs": [],
   "source": [
    "scaler = StandardScaler()\n",
    "X_train_scaled = scaler.fit_transform(X_train)\n",
    "X_test_scaled = scaler.transform(X_test)\n"
   ]
  },
  {
   "cell_type": "code",
   "execution_count": 21,
   "id": "db2c1734-ef60-406e-822b-107e8c51bb0a",
   "metadata": {},
   "outputs": [],
   "source": [
    "def evaluate_model(name, model, X_train, X_test):\n",
    "    model.fit(X_train, y_train)\n",
    "    y_pred = model.predict(X_test)\n",
    "    y_proba = model.predict_proba(X_test)[:, 1]\n",
    "\n",
    "    print(f\"\\n===== {name} =====\")\n",
    "    print(\"Classification Report:\")\n",
    "    print(classification_report(y_test, y_pred))\n",
    "    print(\"Confusion Matrix:\")\n",
    "    print(confusion_matrix(y_test, y_pred))\n",
    "    print(\"ROC-AUC Score:\", roc_auc_score(y_test, y_proba))\n",
    "\n",
    "    fpr, tpr, _ = roc_curve(y_test, y_proba)\n",
    "    plt.plot(fpr, tpr, label=f\"{name} (AUC = {roc_auc_score(y_test, y_proba):.2f})\")\n"
   ]
  },
  {
   "cell_type": "code",
   "execution_count": null,
   "id": "893365ab-9b9d-4bb7-bf49-75e2edb50228",
   "metadata": {},
   "outputs": [
    {
     "name": "stdout",
     "output_type": "stream",
     "text": [
      "\n",
      "===== Logistic Regression =====\n",
      "Classification Report:\n",
      "              precision    recall  f1-score   support\n",
      "\n",
      "           0       0.94      1.00      0.97     27993\n",
      "           1       0.65      0.05      0.09      2005\n",
      "\n",
      "    accuracy                           0.93     29998\n",
      "   macro avg       0.80      0.52      0.53     29998\n",
      "weighted avg       0.92      0.93      0.91     29998\n",
      "\n",
      "Confusion Matrix:\n",
      "[[27939    54]\n",
      " [ 1903   102]]\n",
      "ROC-AUC Score: 0.813843102742198\n",
      "\n",
      "===== Decision Tree =====\n",
      "Classification Report:\n",
      "              precision    recall  f1-score   support\n",
      "\n",
      "           0       0.94      0.99      0.97     27993\n",
      "           1       0.59      0.16      0.25      2005\n",
      "\n",
      "    accuracy                           0.94     29998\n",
      "   macro avg       0.77      0.58      0.61     29998\n",
      "weighted avg       0.92      0.94      0.92     29998\n",
      "\n",
      "Confusion Matrix:\n",
      "[[27767   226]\n",
      " [ 1680   325]]\n",
      "ROC-AUC Score: 0.8497516523769347\n"
     ]
    }
   ],
   "source": [
    "plt.figure(figsize=(10, 6))\n",
    "\n",
    "# Logistic Regression\n",
    "lr_model = LogisticRegression(max_iter=1000)\n",
    "evaluate_model(\"Logistic Regression\", lr_model, X_train_scaled, X_test_scaled)\n",
    "\n",
    "# Decision Tree\n",
    "dt_model = DecisionTreeClassifier(max_depth=5, random_state=42)\n",
    "evaluate_model(\"Decision Tree\", dt_model, X_train, X_test)\n",
    "\n",
    "# Random Forest\n",
    "rf_model = RandomForestClassifier(n_estimators=100, max_depth=5, random_state=42)\n",
    "evaluate_model(\"Random Forest\", rf_model, X_train, X_test)"
   ]
  },
  {
   "cell_type": "code",
   "execution_count": null,
   "id": "948ba5fd-5d6b-4998-92cb-9bb2d50f13f6",
   "metadata": {},
   "outputs": [],
   "source": []
  }
 ],
 "metadata": {
  "kernelspec": {
   "display_name": "Python [conda env:base] *",
   "language": "python",
   "name": "conda-base-py"
  },
  "language_info": {
   "codemirror_mode": {
    "name": "ipython",
    "version": 3
   },
   "file_extension": ".py",
   "mimetype": "text/x-python",
   "name": "python",
   "nbconvert_exporter": "python",
   "pygments_lexer": "ipython3",
   "version": "3.12.7"
  }
 },
 "nbformat": 4,
 "nbformat_minor": 5
}
